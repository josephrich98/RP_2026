{
 "cells": [
  {
   "cell_type": "markdown",
   "metadata": {},
   "source": [
    "<a href=\"https://colab.research.google.com/github/pachterlab/RP_2026/blob/main/logistic_regression_image_to_variant.ipynb\" target=\"_parent\"><img src=\"https://colab.research.google.com/assets/colab-badge.svg\" alt=\"Open In Colab\"/></a>"
   ]
  },
  {
   "cell_type": "markdown",
   "metadata": {},
   "source": [
    "# Logistic regression image to variant"
   ]
  },
  {
   "cell_type": "code",
   "execution_count": null,
   "metadata": {},
   "outputs": [],
   "source": [
    "try:\n",
    "    import RP_2026\n",
    "except ImportError:\n",
    "    print(\"RP_2026 not found, installing...\")\n",
    "    # !pip install -q git+https://github.com/pachterlab/RP_2026.git\n",
    "\n",
    "    try:\n",
    "        import os\n",
    "        !git clone https://github.com/pachterlab/RP_2026.git\n",
    "        %cd RP_2026\n",
    "        !pip install -e .\n",
    "    except Exception as e:\n",
    "        print(f\"Error during installation: {e}\")\n",
    "        raise e"
   ]
  },
  {
   "cell_type": "code",
   "execution_count": null,
   "metadata": {},
   "outputs": [],
   "source": [
    "import os\n",
    "import re\n",
    "import subprocess\n",
    "import numpy as np\n",
    "import pandas as pd\n",
    "import matplotlib.pyplot as plt\n",
    "from tqdm import tqdm\n",
    "\n",
    "# from RP_2026 import ...\n",
    "base_directory = os.path.dirname(os.path.abspath(\"\"))"
   ]
  },
  {
   "cell_type": "markdown",
   "metadata": {},
   "source": [
    "# Define hyperparameters"
   ]
  },
  {
   "cell_type": "code",
   "execution_count": null,
   "metadata": {},
   "outputs": [],
   "source": [
    "out_dir = os.path.join(base_directory, \"output\")\n",
    "box_file_path = \"\"\n",
    "box_tarball_directory_path = \"\""
   ]
  },
  {
   "cell_type": "markdown",
   "metadata": {},
   "source": [
    "# Download data files if they do not already exist"
   ]
  },
  {
   "cell_type": "code",
   "execution_count": null,
   "metadata": {},
   "outputs": [],
   "source": [
    "os.makedirs(out_dir, exist_ok=True)\n",
    "\n",
    "box_file_url = \"\"\n",
    "box_tarball_url = \"\"\n",
    "\n",
    "if not os.path.exists(box_tarball_directory_path):\n",
    "    tarball_file = f\"{box_tarball_url}.tar.gz\"\n",
    "    subprocess.run([\"wget\", box_tarball_url, \"-O\", tarball_file])\n",
    "    subprocess.run([\"tar\", \"-xzf\", tarball_file, \"-C\", out_dir])"
   ]
  },
  {
   "cell_type": "markdown",
   "metadata": {},
   "source": [
    "# Begin analysis"
   ]
  },
  {
   "cell_type": "code",
   "execution_count": null,
   "metadata": {},
   "outputs": [],
   "source": []
  }
 ],
 "metadata": {
  "kernelspec": {
   "display_name": "varseek2",
   "language": "python",
   "name": "python3"
  },
  "language_info": {
   "codemirror_mode": {
    "name": "ipython",
    "version": 3
   },
   "file_extension": ".py",
   "mimetype": "text/x-python",
   "name": "python",
   "nbconvert_exporter": "python",
   "pygments_lexer": "ipython3",
   "version": "3.10.16"
  }
 },
 "nbformat": 4,
 "nbformat_minor": 2
}
